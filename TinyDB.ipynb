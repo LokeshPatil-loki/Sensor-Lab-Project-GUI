{
 "cells": [
  {
   "cell_type": "code",
   "execution_count": 4,
   "metadata": {},
   "outputs": [
    {
     "name": "stdout",
     "output_type": "stream",
     "text": [
      "Defaulting to user installation because normal site-packages is not writeable\n",
      "Requirement already satisfied: pysondb in /home/loki/.local/lib/python3.10/site-packages (1.6.7)\n",
      "Requirement already satisfied: beautifultable in /home/loki/.local/lib/python3.10/site-packages (from pysondb) (1.1.0)\n",
      "Requirement already satisfied: filelock in /home/loki/.local/lib/python3.10/site-packages (from pysondb) (3.11.0)\n",
      "Requirement already satisfied: wcwidth in /home/loki/.local/lib/python3.10/site-packages (from beautifultable->pysondb) (0.2.6)\n"
     ]
    }
   ],
   "source": [
    "!pip install pysondb\n"
   ]
  },
  {
   "cell_type": "code",
   "execution_count": 5,
   "metadata": {},
   "outputs": [
    {
     "name": "stdout",
     "output_type": "stream",
     "text": [
      "zsh:1: command not found: pysondb\n"
     ]
    }
   ],
   "source": []
  },
  {
   "cell_type": "code",
   "execution_count": 33,
   "metadata": {},
   "outputs": [],
   "source": [
    "from pysondb import db\n",
    "\n",
    "a=db.getDb('db.json')\n",
    "\n"
   ]
  },
  {
   "cell_type": "code",
   "execution_count": 36,
   "metadata": {},
   "outputs": [
    {
     "name": "stdout",
     "output_type": "stream",
     "text": [
      "utf-8\n"
     ]
    },
    {
     "data": {
      "text/plain": [
       "793709249693245881"
      ]
     },
     "execution_count": 36,
     "metadata": {},
     "output_type": "execute_result"
    }
   ],
   "source": [
    "a.add({\"group\":\"dish\",\"command\":{'Raw Data':554811721,'len':42,'Protocol':0,'Command':0,'Address':0,'Bits':32,'Protocol Type':'s'},\"name\":\"dish-on\"})"
   ]
  },
  {
   "cell_type": "code",
   "execution_count": 13,
   "metadata": {},
   "outputs": [
    {
     "data": {
      "text/plain": [
       "[{'group': 'tata_sky',\n",
       "  'command': 'on',\n",
       "  'name': 'tata-on',\n",
       "  'id': 161273968909482050},\n",
       " {'group': 'tata_sky',\n",
       "  'command': 'off',\n",
       "  'name': 'tata-of',\n",
       "  'id': 127718810245514099}]"
      ]
     },
     "execution_count": 13,
     "metadata": {},
     "output_type": "execute_result"
    }
   ],
   "source": [
    "a.getByQuery({\"group\":\"tata_sky\",\"command\"})"
   ]
  },
  {
   "cell_type": "code",
   "execution_count": 37,
   "metadata": {},
   "outputs": [],
   "source": [
    "selected_fields = set([item[\"group\"] for item in a.getAll()])\n"
   ]
  },
  {
   "cell_type": "code",
   "execution_count": 39,
   "metadata": {},
   "outputs": [
    {
     "data": {
      "text/plain": [
       "[{'group': 'tata_sky',\n",
       "  'command': {'Raw Data': 85481721,\n",
       "   'len': 44,\n",
       "   'Protocol': 0,\n",
       "   'Command': 0,\n",
       "   'Address': 0,\n",
       "   'Bits': 32,\n",
       "   'Protocol Type': 'UNKNOWN'},\n",
       "  'name': 'tata-off',\n",
       "  'id': 253830667232378762},\n",
       " {'group': 'tata_sky',\n",
       "  'command': {'Raw Data': 154811721,\n",
       "   'len': 44,\n",
       "   'Protocol': 0,\n",
       "   'Command': 0,\n",
       "   'Address': 0,\n",
       "   'Bits': 32,\n",
       "   'Protocol Type': 'UNKNOWN'},\n",
       "  'name': 'tata-on',\n",
       "  'id': 224645035835262528},\n",
       " {'group': 'tata_sky',\n",
       "  'name': 'Loki',\n",
       "  'command': 'Loki',\n",
       "  'id': 768244096375250192}]"
      ]
     },
     "execution_count": 39,
     "metadata": {},
     "output_type": "execute_result"
    }
   ],
   "source": [
    "a.getByQuery({\"group\": \"tata_sky\"})"
   ]
  },
  {
   "cell_type": "code",
   "execution_count": null,
   "metadata": {},
   "outputs": [],
   "source": []
  }
 ],
 "metadata": {
  "kernelspec": {
   "display_name": "Python 3",
   "language": "python",
   "name": "python3"
  },
  "language_info": {
   "codemirror_mode": {
    "name": "ipython",
    "version": 3
   },
   "file_extension": ".py",
   "mimetype": "text/x-python",
   "name": "python",
   "nbconvert_exporter": "python",
   "pygments_lexer": "ipython3",
   "version": "3.10.8 (main, Nov  1 2022, 14:18:21) [GCC 12.2.0]"
  },
  "orig_nbformat": 4,
  "vscode": {
   "interpreter": {
    "hash": "e7370f93d1d0cde622a1f8e1c04877d8463912d04d973331ad4851f04de6915a"
   }
  }
 },
 "nbformat": 4,
 "nbformat_minor": 2
}
