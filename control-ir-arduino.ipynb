{
 "cells": [
  {
   "cell_type": "code",
   "execution_count": 2,
   "metadata": {},
   "outputs": [],
   "source": [
    "import serial\n",
    "import ast"
   ]
  },
  {
   "cell_type": "code",
   "execution_count": 42,
   "metadata": {},
   "outputs": [],
   "source": [
    "ser = serial.Serial('/dev/ttyACM1', 9600) \n"
   ]
  },
  {
   "cell_type": "code",
   "execution_count": 45,
   "metadata": {},
   "outputs": [],
   "source": [
    "\n",
    "def readIRSignal():\n",
    "    count = 0\n",
    "    irDataList = []\n",
    "    while count < 5:\n",
    "        # Read data from Arduino\n",
    "        data = ser.readline().decode().strip()\n",
    "        # data = ast.literal_eval(data)\n",
    "            # Print data to console\n",
    "        irDataList.append(data)\n",
    "        print(data)\n",
    "        count += 1\n",
    "    decodedSignal = max(irDataList,key=irDataList.count)\n",
    "    decodedSignal = ast.literal_eval(decodedSignal)\n",
    "    return decodedSignal"
   ]
  },
  {
   "cell_type": "code",
   "execution_count": 54,
   "metadata": {},
   "outputs": [
    {
     "name": "stdout",
     "output_type": "stream",
     "text": [
      "{'Raw Data':85481721,'len':44,'Protocol':0,'Command':0,'Address':0,'Bits':32,'Protocol Type':'UNKNOWN'}\n",
      "{'Raw Data':12582929,'len':48,'Protocol':18,'Command':17,'Address':0,'Bits':24,'Protocol Type':'RC6'}\n",
      "{'Raw Data':12582929,'len':48,'Protocol':18,'Command':17,'Address':0,'Bits':24,'Protocol Type':'RC6'}\n",
      "{'Raw Data':12582929,'len':48,'Protocol':18,'Command':17,'Address':0,'Bits':24,'Protocol Type':'RC6'}\n",
      "{'Raw Data':12582929,'len':48,'Protocol':18,'Command':17,'Address':0,'Bits':24,'Protocol Type':'RC6'}\n"
     ]
    },
    {
     "data": {
      "text/plain": [
       "{'Raw Data': 12582929,\n",
       " 'len': 48,\n",
       " 'Protocol': 18,\n",
       " 'Command': 17,\n",
       " 'Address': 0,\n",
       " 'Bits': 24,\n",
       " 'Protocol Type': 'RC6'}"
      ]
     },
     "execution_count": 54,
     "metadata": {},
     "output_type": "execute_result"
    }
   ],
   "source": [
    "signal_1 = readIRSignal()\n",
    "signal_1"
   ]
  },
  {
   "cell_type": "code",
   "execution_count": 5,
   "metadata": {},
   "outputs": [],
   "source": [
    "signal_1 = {'Raw Data': 12582913,\n",
    " 'len': 50,\n",
    " 'Protocol': 18,\n",
    " 'Command': 1,\n",
    " 'Address': 0,\n",
    " 'Bits': 24,\n",
    " 'Protocol Type': 'RC6'}"
   ]
  },
  {
   "cell_type": "code",
   "execution_count": 65,
   "metadata": {},
   "outputs": [
    {
     "data": {
      "text/plain": [
       "{'Raw Data': 12582929,\n",
       " 'len': 48,\n",
       " 'Protocol': 18,\n",
       " 'Command': 17,\n",
       " 'Address': 0,\n",
       " 'Bits': 24,\n",
       " 'Protocol Type': 'RC6'}"
      ]
     },
     "execution_count": 65,
     "metadata": {},
     "output_type": "execute_result"
    }
   ],
   "source": [
    "signal_1"
   ]
  },
  {
   "cell_type": "code",
   "execution_count": 55,
   "metadata": {},
   "outputs": [
    {
     "data": {
      "text/plain": [
       "4"
      ]
     },
     "execution_count": 55,
     "metadata": {},
     "output_type": "execute_result"
    }
   ],
   "source": [
    "ser.write(\"send\".encode())"
   ]
  },
  {
   "cell_type": "code",
   "execution_count": 96,
   "metadata": {},
   "outputs": [
    {
     "data": {
      "text/plain": [
       "114"
      ]
     },
     "execution_count": 96,
     "metadata": {},
     "output_type": "execute_result"
    }
   ],
   "source": [
    "ser.write(str(signal_1).encode())\n"
   ]
  },
  {
   "cell_type": "code",
   "execution_count": null,
   "metadata": {},
   "outputs": [],
   "source": []
  },
  {
   "cell_type": "code",
   "execution_count": null,
   "metadata": {},
   "outputs": [],
   "source": []
  }
 ],
 "metadata": {
  "kernelspec": {
   "display_name": "Python 3",
   "language": "python",
   "name": "python3"
  },
  "language_info": {
   "codemirror_mode": {
    "name": "ipython",
    "version": 3
   },
   "file_extension": ".py",
   "mimetype": "text/x-python",
   "name": "python",
   "nbconvert_exporter": "python",
   "pygments_lexer": "ipython3",
   "version": "3.10.8 (main, Nov  1 2022, 14:18:21) [GCC 12.2.0]"
  },
  "orig_nbformat": 4,
  "vscode": {
   "interpreter": {
    "hash": "e7370f93d1d0cde622a1f8e1c04877d8463912d04d973331ad4851f04de6915a"
   }
  }
 },
 "nbformat": 4,
 "nbformat_minor": 2
}
